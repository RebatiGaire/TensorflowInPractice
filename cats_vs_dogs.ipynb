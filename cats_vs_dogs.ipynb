{
  "nbformat": 4,
  "nbformat_minor": 0,
  "metadata": {
    "colab": {
      "name": "cats_vs_dogs.ipynb",
      "provenance": [],
      "collapsed_sections": [],
      "authorship_tag": "ABX9TyNXq8pK8nF1IRuXJZvv+DC0",
      "include_colab_link": true
    },
    "kernelspec": {
      "name": "python3",
      "display_name": "Python 3"
    },
    "accelerator": "GPU"
  },
  "cells": [
    {
      "cell_type": "markdown",
      "metadata": {
        "id": "view-in-github",
        "colab_type": "text"
      },
      "source": [
        "<a href=\"https://colab.research.google.com/github/RebatiGaire/TensorflowInPractice/blob/master/cats_vs_dogs.ipynb\" target=\"_parent\"><img src=\"https://colab.research.google.com/assets/colab-badge.svg\" alt=\"Open In Colab\"/></a>"
      ]
    },
    {
      "cell_type": "code",
      "metadata": {
        "id": "da25OeFJPvv9",
        "colab_type": "code",
        "colab": {}
      },
      "source": [
        "import os\n",
        "import tensorflow as tf\n",
        "import zipfile\n",
        "import random\n",
        "from tensorflow.keras.optimizers import RMSprop\n",
        "from tensorflow.keras.preprocessing.image import ImageDataGenerator\n",
        "from shutil import copyfile"
      ],
      "execution_count": 0,
      "outputs": []
    },
    {
      "cell_type": "code",
      "metadata": {
        "id": "_vAGFMOTRGrk",
        "colab_type": "code",
        "colab": {
          "base_uri": "https://localhost:8080/",
          "height": 224
        },
        "outputId": "42c5a072-68dc-43ca-9681-856d55a70f87"
      },
      "source": [
        "!wget --no-check-certificate \\\n",
        "    \"https://download.microsoft.com/download/3/E/1/3E1C3F21-ECDB-4869-8368-6DEBA77B919F/kagglecatsanddogs_3367a.zip\" \\\n",
        "    -O \"/tmp/cats-and-dogs.zip\"\n",
        "\n",
        "local_zip = \"/tmp/cats-and-dogs.zip\"\n",
        "zipref = zipfile.ZipFile(local_zip, 'r')\n",
        "zipref.extractall('/tmp')\n",
        "zipref.close()"
      ],
      "execution_count": 3,
      "outputs": [
        {
          "output_type": "stream",
          "text": [
            "--2020-04-07 15:07:56--  https://download.microsoft.com/download/3/E/1/3E1C3F21-ECDB-4869-8368-6DEBA77B919F/kagglecatsanddogs_3367a.zip\n",
            "Resolving download.microsoft.com (download.microsoft.com)... 23.193.24.126, 2600:1417:76:586::e59, 2600:1417:76:58e::e59\n",
            "Connecting to download.microsoft.com (download.microsoft.com)|23.193.24.126|:443... connected.\n",
            "HTTP request sent, awaiting response... 200 OK\n",
            "Length: 824894548 (787M) [application/octet-stream]\n",
            "Saving to: ‘/tmp/cats-and-dogs.zip’\n",
            "\n",
            "/tmp/cats-and-dogs. 100%[===================>] 786.68M  84.7MB/s    in 8.4s    \n",
            "\n",
            "2020-04-07 15:08:04 (93.9 MB/s) - ‘/tmp/cats-and-dogs.zip’ saved [824894548/824894548]\n",
            "\n"
          ],
          "name": "stdout"
        }
      ]
    },
    {
      "cell_type": "code",
      "metadata": {
        "id": "RM4wQ70GR7WP",
        "colab_type": "code",
        "colab": {
          "base_uri": "https://localhost:8080/",
          "height": 51
        },
        "outputId": "24467e84-3063-45ec-96fd-7494a3292d61"
      },
      "source": [
        "print(len(os.listdir('/tmp/PetImages/Cat/')))\n",
        "print(len(os.listdir('/tmp/PetImages/Dog/')))"
      ],
      "execution_count": 4,
      "outputs": [
        {
          "output_type": "stream",
          "text": [
            "12501\n",
            "12501\n"
          ],
          "name": "stdout"
        }
      ]
    },
    {
      "cell_type": "code",
      "metadata": {
        "id": "VjyQ0WBDTJ0-",
        "colab_type": "code",
        "colab": {}
      },
      "source": [
        "try:\n",
        "    os.mkdir('/tmp/cats-v-dogs')\n",
        "    os.mkdir('/tmp/cats-v-dogs/training')\n",
        "    os.mkdir('/tmp/cats-v-dogs/training/dogs')\n",
        "    os.mkdir('/tmp/cats-v-dogs/training/cats')\n",
        "    os.mkdir('/tmp/cats-v-dogs/testing')\n",
        "    os.mkdir('/tmp/cats-v-dogs/testing/dogs')\n",
        "    os.mkdir('/tmp/cats-v-dogs/testing/cats')\n",
        "except OSError:\n",
        "    pass"
      ],
      "execution_count": 0,
      "outputs": []
    },
    {
      "cell_type": "code",
      "metadata": {
        "id": "_H5g71NuTphQ",
        "colab_type": "code",
        "colab": {}
      },
      "source": [
        "def split_data(SOURCE, TRAINING, TESTING, SPLIT_SIZE):\n",
        "    files = []\n",
        "    for filename in os.listdir(SOURCE):\n",
        "        file = SOURCE + filename\n",
        "        if os.path.getsize(file) > 0:\n",
        "            files.append(filename)\n",
        "        else:\n",
        "            print(filename + \" is zero length, so ignoring.\")\n",
        "\n",
        "    training_length = int(len(files) * SPLIT_SIZE)\n",
        "    testing_length = int(len(files) - training_length)\n",
        "    shuffled_set = random.sample(files, len(files))\n",
        "    training_set = shuffled_set[0:training_length]\n",
        "    testing_set = shuffled_set[-testing_length:]\n",
        "\n",
        "    for filename in training_set:\n",
        "        this_file = SOURCE + filename\n",
        "        destination = TRAINING + filename\n",
        "        copyfile(this_file, destination)\n",
        "\n",
        "    for filename in testing_set:\n",
        "        this_file = SOURCE + filename\n",
        "        destination = TESTING + filename\n",
        "        copyfile(this_file, destination)\n",
        "             "
      ],
      "execution_count": 0,
      "outputs": []
    },
    {
      "cell_type": "code",
      "metadata": {
        "id": "h3DTEBQUT2L5",
        "colab_type": "code",
        "colab": {
          "base_uri": "https://localhost:8080/",
          "height": 51
        },
        "outputId": "8c955dd6-87ec-48b0-da88-615675bf0aaa"
      },
      "source": [
        "CAT_SOURCE_DIR = \"/tmp/PetImages/Cat/\"\n",
        "TRAINING_CATS_DIR = \"/tmp/cats-v-dogs/training/cats/\"\n",
        "TESTING_CATS_DIR = \"/tmp/cats-v-dogs/testing/cats/\"\n",
        "DOG_SOURCE_DIR = \"/tmp/PetImages/Dog/\"\n",
        "TRAINING_DOGS_DIR = \"/tmp/cats-v-dogs/training/dogs/\"\n",
        "TESTING_DOGS_DIR = \"/tmp/cats-v-dogs/testing/dogs/\"\n",
        "\n",
        "split_size = .9\n",
        "split_data(CAT_SOURCE_DIR, TRAINING_CATS_DIR, TESTING_CATS_DIR, split_size)\n",
        "split_data(DOG_SOURCE_DIR, TRAINING_DOGS_DIR, TESTING_DOGS_DIR, split_size)\n"
      ],
      "execution_count": 7,
      "outputs": [
        {
          "output_type": "stream",
          "text": [
            "666.jpg is zero length, so ignoring.\n",
            "11702.jpg is zero length, so ignoring.\n"
          ],
          "name": "stdout"
        }
      ]
    },
    {
      "cell_type": "code",
      "metadata": {
        "id": "U-lGBLs0UBgM",
        "colab_type": "code",
        "colab": {
          "base_uri": "https://localhost:8080/",
          "height": 85
        },
        "outputId": "1cf9bfa4-36cc-415f-f96c-b1efe70f6e60"
      },
      "source": [
        "print(len(os.listdir('/tmp/cats-v-dogs/training/cats/')))\n",
        "print(len(os.listdir('/tmp/cats-v-dogs/training/dogs/')))\n",
        "print(len(os.listdir('/tmp/cats-v-dogs/testing/cats/')))\n",
        "print(len(os.listdir('/tmp/cats-v-dogs/testing/dogs/')))"
      ],
      "execution_count": 8,
      "outputs": [
        {
          "output_type": "stream",
          "text": [
            "11250\n",
            "11250\n",
            "1250\n",
            "1250\n"
          ],
          "name": "stdout"
        }
      ]
    },
    {
      "cell_type": "code",
      "metadata": {
        "id": "6tA2DUpEULgY",
        "colab_type": "code",
        "colab": {}
      },
      "source": [
        "model = tf.keras.models.Sequential([\n",
        "    tf.keras.layers.Conv2D(16, (3,3), activation='relu', input_shape=(150, 150, 3)),\n",
        "    tf.keras.layers.MaxPooling2D(2,2),\n",
        "    tf.keras.layers.Conv2D(32, (3,3), activation='relu'),\n",
        "    tf.keras.layers.MaxPooling2D(2,2), \n",
        "    tf.keras.layers.Conv2D(64, (3,3), activation='relu'), \n",
        "    tf.keras.layers.MaxPooling2D(2,2),\n",
        "    tf.keras.layers.Flatten(), \n",
        "    tf.keras.layers.Dense(512, activation='relu'), \n",
        "    tf.keras.layers.Dense(1, activation='sigmoid') \n",
        "])\n"
      ],
      "execution_count": 0,
      "outputs": []
    },
    {
      "cell_type": "code",
      "metadata": {
        "id": "hNwniNPeUcN3",
        "colab_type": "code",
        "colab": {}
      },
      "source": [
        "model.compile(optimizer=RMSprop(lr=0.001), loss='binary_crossentropy', metrics=['accuracy'])"
      ],
      "execution_count": 0,
      "outputs": []
    },
    {
      "cell_type": "code",
      "metadata": {
        "id": "jwb4rnLdUjpp",
        "colab_type": "code",
        "colab": {
          "base_uri": "https://localhost:8080/",
          "height": 51
        },
        "outputId": "386d17e1-b40a-4d54-cc90-caf9c0802482"
      },
      "source": [
        "TRAINING_DIR = '/tmp/cats-v-dogs/training/'\n",
        "train_datagen = ImageDataGenerator( rescale = 1.0/255. )\n",
        "train_generator = train_datagen.flow_from_directory(TRAINING_DIR,\n",
        "                                                    batch_size=25,\n",
        "                                                    class_mode='binary',\n",
        "                                                    target_size=(150, 150)) \n",
        "\n",
        "VALIDATION_DIR = '/tmp/cats-v-dogs/testing/'\n",
        "validation_datagen = ImageDataGenerator( rescale = 1.0/255. )\n",
        "validation_generator = validation_datagen.flow_from_directory(VALIDATION_DIR,\n",
        "                                                         batch_size=25,\n",
        "                                                         class_mode  = 'binary',\n",
        "                                                         target_size = (150, 150)) \n"
      ],
      "execution_count": 11,
      "outputs": [
        {
          "output_type": "stream",
          "text": [
            "Found 22498 images belonging to 2 classes.\n",
            "Found 2500 images belonging to 2 classes.\n"
          ],
          "name": "stdout"
        }
      ]
    },
    {
      "cell_type": "code",
      "metadata": {
        "id": "qyoTth9_U8-T",
        "colab_type": "code",
        "colab": {
          "base_uri": "https://localhost:8080/",
          "height": 1000
        },
        "outputId": "2707d272-e395-4a9d-ed1b-ab7c13cae1d8"
      },
      "source": [
        "history = model.fit(train_generator,\n",
        "                              validation_data=validation_generator,\n",
        "                              epochs=100,\n",
        "                              steps_per_epoch = 225, \n",
        "                              validation_steps = 100,                       \n",
        "                              verbose=1,)"
      ],
      "execution_count": 12,
      "outputs": [
        {
          "output_type": "stream",
          "text": [
            "Epoch 1/100\n",
            "225/225 [==============================] - 27s 121ms/step - loss: 0.6909 - accuracy: 0.6036 - val_loss: 0.6452 - val_accuracy: 0.6536\n",
            "Epoch 2/100\n",
            " 18/225 [=>............................] - ETA: 16s - loss: 0.6348 - accuracy: 0.6778"
          ],
          "name": "stdout"
        },
        {
          "output_type": "stream",
          "text": [
            "/usr/local/lib/python3.6/dist-packages/PIL/TiffImagePlugin.py:770: UserWarning: Possibly corrupt EXIF data.  Expecting to read 32 bytes but only got 0. Skipping tag 270\n",
            "  \" Skipping tag %s\" % (size, len(data), tag)\n",
            "/usr/local/lib/python3.6/dist-packages/PIL/TiffImagePlugin.py:770: UserWarning: Possibly corrupt EXIF data.  Expecting to read 5 bytes but only got 0. Skipping tag 271\n",
            "  \" Skipping tag %s\" % (size, len(data), tag)\n",
            "/usr/local/lib/python3.6/dist-packages/PIL/TiffImagePlugin.py:770: UserWarning: Possibly corrupt EXIF data.  Expecting to read 8 bytes but only got 0. Skipping tag 272\n",
            "  \" Skipping tag %s\" % (size, len(data), tag)\n",
            "/usr/local/lib/python3.6/dist-packages/PIL/TiffImagePlugin.py:770: UserWarning: Possibly corrupt EXIF data.  Expecting to read 8 bytes but only got 0. Skipping tag 282\n",
            "  \" Skipping tag %s\" % (size, len(data), tag)\n",
            "/usr/local/lib/python3.6/dist-packages/PIL/TiffImagePlugin.py:770: UserWarning: Possibly corrupt EXIF data.  Expecting to read 8 bytes but only got 0. Skipping tag 283\n",
            "  \" Skipping tag %s\" % (size, len(data), tag)\n",
            "/usr/local/lib/python3.6/dist-packages/PIL/TiffImagePlugin.py:770: UserWarning: Possibly corrupt EXIF data.  Expecting to read 20 bytes but only got 0. Skipping tag 306\n",
            "  \" Skipping tag %s\" % (size, len(data), tag)\n",
            "/usr/local/lib/python3.6/dist-packages/PIL/TiffImagePlugin.py:770: UserWarning: Possibly corrupt EXIF data.  Expecting to read 48 bytes but only got 0. Skipping tag 532\n",
            "  \" Skipping tag %s\" % (size, len(data), tag)\n",
            "/usr/local/lib/python3.6/dist-packages/PIL/TiffImagePlugin.py:788: UserWarning: Corrupt EXIF data.  Expecting to read 2 bytes but only got 0. \n",
            "  warnings.warn(str(msg))\n"
          ],
          "name": "stderr"
        },
        {
          "output_type": "stream",
          "text": [
            "225/225 [==============================] - 27s 119ms/step - loss: 0.5875 - accuracy: 0.6972 - val_loss: 0.5368 - val_accuracy: 0.7208\n",
            "Epoch 3/100\n",
            "225/225 [==============================] - 27s 119ms/step - loss: 0.5455 - accuracy: 0.7225 - val_loss: 0.5414 - val_accuracy: 0.7284\n",
            "Epoch 4/100\n",
            "225/225 [==============================] - 27s 120ms/step - loss: 0.5162 - accuracy: 0.7564 - val_loss: 0.5234 - val_accuracy: 0.7256\n",
            "Epoch 5/100\n",
            "225/225 [==============================] - 27s 120ms/step - loss: 0.4692 - accuracy: 0.7774 - val_loss: 0.4576 - val_accuracy: 0.7848\n",
            "Epoch 6/100\n",
            "225/225 [==============================] - 27s 119ms/step - loss: 0.4648 - accuracy: 0.7852 - val_loss: 0.4382 - val_accuracy: 0.7972\n",
            "Epoch 7/100\n",
            "225/225 [==============================] - 27s 119ms/step - loss: 0.4604 - accuracy: 0.7879 - val_loss: 0.4396 - val_accuracy: 0.7968\n",
            "Epoch 8/100\n",
            "225/225 [==============================] - 27s 119ms/step - loss: 0.4325 - accuracy: 0.7978 - val_loss: 0.4471 - val_accuracy: 0.7876\n",
            "Epoch 9/100\n",
            "225/225 [==============================] - 27s 119ms/step - loss: 0.4066 - accuracy: 0.8139 - val_loss: 0.4718 - val_accuracy: 0.7948\n",
            "Epoch 10/100\n",
            "225/225 [==============================] - 27s 119ms/step - loss: 0.3953 - accuracy: 0.8265 - val_loss: 0.4129 - val_accuracy: 0.8168\n",
            "Epoch 11/100\n",
            "225/225 [==============================] - 27s 120ms/step - loss: 0.3934 - accuracy: 0.8251 - val_loss: 0.4216 - val_accuracy: 0.8076\n",
            "Epoch 12/100\n",
            "225/225 [==============================] - 27s 119ms/step - loss: 0.3944 - accuracy: 0.8286 - val_loss: 0.4420 - val_accuracy: 0.8072\n",
            "Epoch 13/100\n",
            "225/225 [==============================] - 27s 118ms/step - loss: 0.3573 - accuracy: 0.8441 - val_loss: 0.4047 - val_accuracy: 0.8140\n",
            "Epoch 14/100\n",
            "225/225 [==============================] - 27s 120ms/step - loss: 0.3539 - accuracy: 0.8469 - val_loss: 0.4060 - val_accuracy: 0.8168\n",
            "Epoch 15/100\n",
            "225/225 [==============================] - 27s 118ms/step - loss: 0.3460 - accuracy: 0.8544 - val_loss: 0.3973 - val_accuracy: 0.8312\n",
            "Epoch 16/100\n",
            "225/225 [==============================] - 27s 118ms/step - loss: 0.3544 - accuracy: 0.8479 - val_loss: 0.4172 - val_accuracy: 0.8180\n",
            "Epoch 17/100\n",
            "225/225 [==============================] - 27s 119ms/step - loss: 0.3058 - accuracy: 0.8740 - val_loss: 0.4049 - val_accuracy: 0.8264\n",
            "Epoch 18/100\n",
            "225/225 [==============================] - 27s 120ms/step - loss: 0.3029 - accuracy: 0.8757 - val_loss: 0.4588 - val_accuracy: 0.7940\n",
            "Epoch 19/100\n",
            "225/225 [==============================] - 27s 119ms/step - loss: 0.3144 - accuracy: 0.8693 - val_loss: 0.4114 - val_accuracy: 0.8312\n",
            "Epoch 20/100\n",
            "225/225 [==============================] - 27s 119ms/step - loss: 0.3363 - accuracy: 0.8616 - val_loss: 0.3917 - val_accuracy: 0.8232\n",
            "Epoch 21/100\n",
            "225/225 [==============================] - 27s 119ms/step - loss: 0.2699 - accuracy: 0.8940 - val_loss: 0.4176 - val_accuracy: 0.8248\n",
            "Epoch 22/100\n",
            "225/225 [==============================] - 27s 120ms/step - loss: 0.2841 - accuracy: 0.8812 - val_loss: 0.4784 - val_accuracy: 0.8204\n",
            "Epoch 23/100\n",
            "225/225 [==============================] - 27s 119ms/step - loss: 0.2952 - accuracy: 0.8809 - val_loss: 0.4644 - val_accuracy: 0.8376\n",
            "Epoch 24/100\n",
            "225/225 [==============================] - 27s 119ms/step - loss: 0.3019 - accuracy: 0.8812 - val_loss: 0.3911 - val_accuracy: 0.8288\n",
            "Epoch 25/100\n",
            "225/225 [==============================] - 26s 118ms/step - loss: 0.2426 - accuracy: 0.9042 - val_loss: 0.3926 - val_accuracy: 0.8400\n",
            "Epoch 26/100\n",
            "225/225 [==============================] - 27s 118ms/step - loss: 0.2567 - accuracy: 0.8996 - val_loss: 0.4607 - val_accuracy: 0.8272\n",
            "Epoch 27/100\n",
            "225/225 [==============================] - 27s 118ms/step - loss: 0.2743 - accuracy: 0.8937 - val_loss: 0.4316 - val_accuracy: 0.8436\n",
            "Epoch 28/100\n",
            "225/225 [==============================] - 26s 117ms/step - loss: 0.2761 - accuracy: 0.8899 - val_loss: 0.4148 - val_accuracy: 0.8180\n",
            "Epoch 29/100\n",
            "225/225 [==============================] - 26s 116ms/step - loss: 0.2338 - accuracy: 0.9076 - val_loss: 0.5060 - val_accuracy: 0.8264\n",
            "Epoch 30/100\n",
            "225/225 [==============================] - 26s 118ms/step - loss: 0.2367 - accuracy: 0.9111 - val_loss: 0.6555 - val_accuracy: 0.8164\n",
            "Epoch 31/100\n",
            "225/225 [==============================] - 26s 117ms/step - loss: 0.2531 - accuracy: 0.8994 - val_loss: 0.4530 - val_accuracy: 0.8504\n",
            "Epoch 32/100\n",
            "225/225 [==============================] - 26s 117ms/step - loss: 0.2661 - accuracy: 0.8967 - val_loss: 0.5455 - val_accuracy: 0.8308\n",
            "Epoch 33/100\n",
            "225/225 [==============================] - 26s 117ms/step - loss: 0.2310 - accuracy: 0.9132 - val_loss: 0.5290 - val_accuracy: 0.8468\n",
            "Epoch 34/100\n",
            "225/225 [==============================] - 26s 117ms/step - loss: 0.2320 - accuracy: 0.9124 - val_loss: 0.4408 - val_accuracy: 0.8252\n",
            "Epoch 35/100\n",
            "225/225 [==============================] - 26s 116ms/step - loss: 0.2327 - accuracy: 0.9099 - val_loss: 0.6280 - val_accuracy: 0.8288\n",
            "Epoch 36/100\n",
            "225/225 [==============================] - 26s 116ms/step - loss: 0.2545 - accuracy: 0.9027 - val_loss: 0.7694 - val_accuracy: 0.7976\n",
            "Epoch 37/100\n",
            "225/225 [==============================] - 26s 115ms/step - loss: 0.2077 - accuracy: 0.9248 - val_loss: 0.6245 - val_accuracy: 0.7924\n",
            "Epoch 38/100\n",
            "225/225 [==============================] - 26s 117ms/step - loss: 0.2250 - accuracy: 0.9161 - val_loss: 0.4512 - val_accuracy: 0.8392\n",
            "Epoch 39/100\n",
            "225/225 [==============================] - 26s 115ms/step - loss: 0.2407 - accuracy: 0.9147 - val_loss: 0.5238 - val_accuracy: 0.8256\n",
            "Epoch 40/100\n",
            "225/225 [==============================] - 26s 116ms/step - loss: 0.2432 - accuracy: 0.9061 - val_loss: 0.5808 - val_accuracy: 0.8236\n",
            "Epoch 41/100\n",
            "225/225 [==============================] - 26s 116ms/step - loss: 0.1991 - accuracy: 0.9259 - val_loss: 0.4835 - val_accuracy: 0.8112\n",
            "Epoch 42/100\n",
            "225/225 [==============================] - 26s 116ms/step - loss: 0.2180 - accuracy: 0.9170 - val_loss: 0.6039 - val_accuracy: 0.8344\n",
            "Epoch 43/100\n",
            "225/225 [==============================] - 26s 116ms/step - loss: 0.2309 - accuracy: 0.9138 - val_loss: 0.4609 - val_accuracy: 0.8292\n",
            "Epoch 44/100\n",
            "225/225 [==============================] - 26s 116ms/step - loss: 0.2441 - accuracy: 0.9153 - val_loss: 0.7327 - val_accuracy: 0.7680\n",
            "Epoch 45/100\n",
            "225/225 [==============================] - 26s 118ms/step - loss: 0.1901 - accuracy: 0.9280 - val_loss: 0.6562 - val_accuracy: 0.7716\n",
            "Epoch 46/100\n",
            "225/225 [==============================] - 26s 117ms/step - loss: 0.2056 - accuracy: 0.9237 - val_loss: 0.5268 - val_accuracy: 0.8492\n",
            "Epoch 47/100\n",
            "225/225 [==============================] - 26s 117ms/step - loss: 0.2244 - accuracy: 0.9195 - val_loss: 0.4331 - val_accuracy: 0.8496\n",
            "Epoch 48/100\n",
            "225/225 [==============================] - 26s 118ms/step - loss: 0.2501 - accuracy: 0.9097 - val_loss: 1.0688 - val_accuracy: 0.7952\n",
            "Epoch 49/100\n",
            "225/225 [==============================] - 27s 118ms/step - loss: 0.2242 - accuracy: 0.9211 - val_loss: 0.6924 - val_accuracy: 0.6728\n",
            "Epoch 50/100\n",
            "225/225 [==============================] - 26s 118ms/step - loss: 0.2098 - accuracy: 0.9278 - val_loss: 0.7509 - val_accuracy: 0.8228\n",
            "Epoch 51/100\n",
            "225/225 [==============================] - 27s 118ms/step - loss: 0.2185 - accuracy: 0.9271 - val_loss: 0.6120 - val_accuracy: 0.8200\n",
            "Epoch 52/100\n",
            "225/225 [==============================] - 26s 118ms/step - loss: 0.2411 - accuracy: 0.9196 - val_loss: 0.4587 - val_accuracy: 0.8308\n",
            "Epoch 53/100\n",
            "225/225 [==============================] - 27s 118ms/step - loss: 0.1984 - accuracy: 0.9335 - val_loss: 0.8165 - val_accuracy: 0.8340\n",
            "Epoch 54/100\n",
            "225/225 [==============================] - 26s 117ms/step - loss: 0.2139 - accuracy: 0.9257 - val_loss: 0.8416 - val_accuracy: 0.8516\n",
            "Epoch 55/100\n",
            "225/225 [==============================] - 26s 118ms/step - loss: 0.2339 - accuracy: 0.9214 - val_loss: 0.6063 - val_accuracy: 0.8396\n",
            "Epoch 56/100\n",
            "225/225 [==============================] - 26s 117ms/step - loss: 0.2504 - accuracy: 0.9164 - val_loss: 0.6154 - val_accuracy: 0.8412\n",
            "Epoch 57/100\n",
            "225/225 [==============================] - 27s 118ms/step - loss: 0.2037 - accuracy: 0.9294 - val_loss: 0.6637 - val_accuracy: 0.8228\n",
            "Epoch 58/100\n",
            "225/225 [==============================] - 26s 117ms/step - loss: 0.2161 - accuracy: 0.9291 - val_loss: 0.9550 - val_accuracy: 0.8068\n",
            "Epoch 59/100\n",
            "225/225 [==============================] - 27s 119ms/step - loss: 0.2148 - accuracy: 0.9260 - val_loss: 0.6057 - val_accuracy: 0.8292\n",
            "Epoch 60/100\n",
            "225/225 [==============================] - 27s 119ms/step - loss: 0.2192 - accuracy: 0.9285 - val_loss: 0.8402 - val_accuracy: 0.7624\n",
            "Epoch 61/100\n",
            "225/225 [==============================] - 27s 118ms/step - loss: 0.1946 - accuracy: 0.9310 - val_loss: 0.9405 - val_accuracy: 0.8176\n",
            "Epoch 62/100\n",
            "225/225 [==============================] - 27s 118ms/step - loss: 0.2681 - accuracy: 0.9252 - val_loss: 0.5801 - val_accuracy: 0.8180\n",
            "Epoch 63/100\n",
            "225/225 [==============================] - 27s 118ms/step - loss: 0.2374 - accuracy: 0.9264 - val_loss: 0.6052 - val_accuracy: 0.7972\n",
            "Epoch 64/100\n",
            "225/225 [==============================] - 27s 120ms/step - loss: 0.2304 - accuracy: 0.9201 - val_loss: 1.2529 - val_accuracy: 0.8228\n",
            "Epoch 65/100\n",
            "225/225 [==============================] - 27s 120ms/step - loss: 0.2154 - accuracy: 0.9282 - val_loss: 0.5706 - val_accuracy: 0.7952\n",
            "Epoch 66/100\n",
            "225/225 [==============================] - 27s 118ms/step - loss: 0.2240 - accuracy: 0.9275 - val_loss: 0.5303 - val_accuracy: 0.8028\n",
            "Epoch 67/100\n",
            "225/225 [==============================] - 27s 119ms/step - loss: 0.2376 - accuracy: 0.9282 - val_loss: 0.6297 - val_accuracy: 0.8612\n",
            "Epoch 68/100\n",
            "225/225 [==============================] - 27s 119ms/step - loss: 0.2363 - accuracy: 0.9241 - val_loss: 0.7611 - val_accuracy: 0.8348\n",
            "Epoch 69/100\n",
            "225/225 [==============================] - 27s 118ms/step - loss: 0.2120 - accuracy: 0.9278 - val_loss: 0.7117 - val_accuracy: 0.8108\n",
            "Epoch 70/100\n",
            "225/225 [==============================] - 27s 119ms/step - loss: 0.2089 - accuracy: 0.9269 - val_loss: 0.8734 - val_accuracy: 0.8144\n",
            "Epoch 71/100\n",
            "225/225 [==============================] - 27s 118ms/step - loss: 0.2251 - accuracy: 0.9252 - val_loss: 0.7113 - val_accuracy: 0.8344\n",
            "Epoch 72/100\n",
            "225/225 [==============================] - 27s 118ms/step - loss: 0.2490 - accuracy: 0.9266 - val_loss: 0.5384 - val_accuracy: 0.7312\n",
            "Epoch 73/100\n",
            "225/225 [==============================] - 27s 119ms/step - loss: 0.2065 - accuracy: 0.9332 - val_loss: 0.6789 - val_accuracy: 0.8348\n",
            "Epoch 74/100\n",
            "225/225 [==============================] - 27s 119ms/step - loss: 0.2118 - accuracy: 0.9285 - val_loss: 0.6988 - val_accuracy: 0.8284\n",
            "Epoch 75/100\n",
            "225/225 [==============================] - 27s 118ms/step - loss: 0.2266 - accuracy: 0.9260 - val_loss: 1.2676 - val_accuracy: 0.7648\n",
            "Epoch 76/100\n",
            "225/225 [==============================] - 26s 118ms/step - loss: 0.2688 - accuracy: 0.9189 - val_loss: 0.8939 - val_accuracy: 0.8356\n",
            "Epoch 77/100\n",
            "225/225 [==============================] - 27s 118ms/step - loss: 0.2637 - accuracy: 0.9236 - val_loss: 0.5959 - val_accuracy: 0.8444\n",
            "Epoch 78/100\n",
            "225/225 [==============================] - 26s 118ms/step - loss: 0.1936 - accuracy: 0.9342 - val_loss: 0.7751 - val_accuracy: 0.8428\n",
            "Epoch 79/100\n",
            "225/225 [==============================] - 26s 118ms/step - loss: 0.2541 - accuracy: 0.9202 - val_loss: 0.5612 - val_accuracy: 0.7832\n",
            "Epoch 80/100\n",
            "225/225 [==============================] - 26s 117ms/step - loss: 0.2685 - accuracy: 0.9155 - val_loss: 0.8017 - val_accuracy: 0.8272\n",
            "Epoch 81/100\n",
            "225/225 [==============================] - 26s 117ms/step - loss: 0.2573 - accuracy: 0.9248 - val_loss: 0.4994 - val_accuracy: 0.8264\n",
            "Epoch 82/100\n",
            "225/225 [==============================] - 26s 118ms/step - loss: 0.2449 - accuracy: 0.9241 - val_loss: 0.8870 - val_accuracy: 0.8372\n",
            "Epoch 83/100\n",
            "225/225 [==============================] - 35s 157ms/step - loss: 0.2434 - accuracy: 0.9234 - val_loss: 0.7540 - val_accuracy: 0.8372\n",
            "Epoch 84/100\n",
            "225/225 [==============================] - 27s 120ms/step - loss: 0.2506 - accuracy: 0.9250 - val_loss: 0.8524 - val_accuracy: 0.8212\n",
            "Epoch 85/100\n",
            "225/225 [==============================] - 27s 121ms/step - loss: 0.2482 - accuracy: 0.9230 - val_loss: 0.7305 - val_accuracy: 0.8088\n",
            "Epoch 86/100\n",
            "225/225 [==============================] - 27s 121ms/step - loss: 0.2546 - accuracy: 0.9252 - val_loss: 0.8018 - val_accuracy: 0.8348\n",
            "Epoch 87/100\n",
            "225/225 [==============================] - 27s 120ms/step - loss: 0.2711 - accuracy: 0.9214 - val_loss: 0.6051 - val_accuracy: 0.8120\n",
            "Epoch 88/100\n",
            "225/225 [==============================] - 27s 120ms/step - loss: 0.2705 - accuracy: 0.9145 - val_loss: 0.7748 - val_accuracy: 0.8348\n",
            "Epoch 89/100\n",
            "225/225 [==============================] - 27s 120ms/step - loss: 0.3005 - accuracy: 0.9054 - val_loss: 0.6048 - val_accuracy: 0.8012\n",
            "Epoch 90/100\n",
            "225/225 [==============================] - 27s 121ms/step - loss: 0.2554 - accuracy: 0.9157 - val_loss: 0.6931 - val_accuracy: 0.8308\n",
            "Epoch 91/100\n",
            "225/225 [==============================] - 27s 120ms/step - loss: 0.2742 - accuracy: 0.9209 - val_loss: 0.7439 - val_accuracy: 0.8560\n",
            "Epoch 92/100\n",
            "225/225 [==============================] - 27s 121ms/step - loss: 0.2839 - accuracy: 0.9086 - val_loss: 1.1875 - val_accuracy: 0.8320\n",
            "Epoch 93/100\n",
            "225/225 [==============================] - 27s 120ms/step - loss: 0.2411 - accuracy: 0.9248 - val_loss: 1.4083 - val_accuracy: 0.7924\n",
            "Epoch 94/100\n",
            "225/225 [==============================] - 31s 136ms/step - loss: 0.2899 - accuracy: 0.9056 - val_loss: 0.6508 - val_accuracy: 0.7732\n",
            "Epoch 95/100\n",
            "225/225 [==============================] - 27s 119ms/step - loss: 0.2681 - accuracy: 0.9196 - val_loss: 0.9896 - val_accuracy: 0.7304\n",
            "Epoch 96/100\n",
            "225/225 [==============================] - 27s 118ms/step - loss: 0.2875 - accuracy: 0.9139 - val_loss: 0.6327 - val_accuracy: 0.7996\n",
            "Epoch 97/100\n",
            "225/225 [==============================] - 27s 118ms/step - loss: 0.2543 - accuracy: 0.9209 - val_loss: 0.5247 - val_accuracy: 0.8388\n",
            "Epoch 98/100\n",
            "225/225 [==============================] - 27s 118ms/step - loss: 0.3096 - accuracy: 0.9129 - val_loss: 0.8386 - val_accuracy: 0.8328\n",
            "Epoch 99/100\n",
            "225/225 [==============================] - 27s 119ms/step - loss: 0.2826 - accuracy: 0.9156 - val_loss: 1.3335 - val_accuracy: 0.6628\n",
            "Epoch 100/100\n",
            "225/225 [==============================] - 26s 118ms/step - loss: 0.2796 - accuracy: 0.9072 - val_loss: 0.6437 - val_accuracy: 0.7944\n"
          ],
          "name": "stdout"
        }
      ]
    },
    {
      "cell_type": "code",
      "metadata": {
        "id": "Jg1s6z8ak6Rc",
        "colab_type": "code",
        "colab": {
          "base_uri": "https://localhost:8080/",
          "height": 562
        },
        "outputId": "451c7728-2ac3-452b-8302-f27f15f40f2f"
      },
      "source": [
        "# PLOT LOSS AND ACCURACY\n",
        "%matplotlib inline\n",
        "\n",
        "import matplotlib.image  as mpimg\n",
        "import matplotlib.pyplot as plt\n",
        "\n",
        "#-----------------------------------------------------------\n",
        "# Retrieve a list of list results on training and test data\n",
        "# sets for each training epoch\n",
        "#-----------------------------------------------------------\n",
        "acc=history.history['accuracy']\n",
        "val_acc=history.history['val_accuracy']\n",
        "loss=history.history['loss']\n",
        "val_loss=history.history['val_loss']\n",
        "\n",
        "epochs=range(len(acc)) # Get number of epochs\n",
        "\n",
        "#------------------------------------------------\n",
        "# Plot training and validation accuracy per epoch\n",
        "#------------------------------------------------\n",
        "plt.plot(epochs, acc, 'r', \"Training Accuracy\")\n",
        "plt.plot(epochs, val_acc, 'b', \"Validation Accuracy\")\n",
        "plt.title('Training and validation accuracy')\n",
        "plt.figure()\n",
        "\n",
        "#------------------------------------------------\n",
        "# Plot training and validation loss per epoch\n",
        "#------------------------------------------------\n",
        "plt.plot(epochs, loss, 'r', \"Training Loss\")\n",
        "plt.plot(epochs, val_loss, 'b', \"Validation Loss\")\n",
        "\n",
        "\n",
        "plt.title('Training and validation loss')"
      ],
      "execution_count": 13,
      "outputs": [
        {
          "output_type": "execute_result",
          "data": {
            "text/plain": [
              "Text(0.5, 1.0, 'Training and validation loss')"
            ]
          },
          "metadata": {
            "tags": []
          },
          "execution_count": 13
        },
        {
          "output_type": "display_data",
          "data": {
            "image/png": "[encoded data removed]",
            "text/plain": [
              "<Figure size 432x288 with 1 Axes>"
            ]
          },
          "metadata": {
            "tags": []
          }
        },
        {
          "output_type": "display_data",
          "data": {
            "image/png": "[encoded data removed]",
            "text/plain": [
              "<Figure size 432x288 with 1 Axes>"
            ]
          },
          "metadata": {
            "tags": []
          }
        }
      ]
    },
    {
      "cell_type": "code",
      "metadata": {
        "id": "F767x4VKk_Z_",
        "colab_type": "code",
        "colab": {
          "resources": {
            "http://localhost:8080/nbextensions/google.colab/files.js": {
              "data": "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",
              "ok": true,
              "headers": [
                [
                  "content-type",
                  "application/javascript"
                ]
              ],
              "status": 200,
              "status_text": ""
            }
          },
          "base_uri": "https://localhost:8080/",
          "height": 108
        },
        "outputId": "a371c7d0-3282-484c-9f1d-90021bac6829"
      },
      "source": [
        "# Here's a codeblock just for fun. You should be able to upload an image here \n",
        "# and have it classified without crashing\n",
        "\n",
        "import numpy as np\n",
        "from google.colab import files\n",
        "from keras.preprocessing import image\n",
        "\n",
        "uploaded = files.upload()\n",
        "\n",
        "\n",
        "for fn in uploaded.keys():\n",
        " \n",
        "  # predicting images\n",
        "  path = '/content/' + fn\n",
        "  img = image.load_img(path, target_size=(150, 150))\n",
        "  x = image.img_to_array(img)\n",
        "  x = np.expand_dims(x, axis=0)\n",
        "\n",
        "  images = np.vstack([x])\n",
        "  classes = model.predict(images, batch_size=10)\n",
        "  print(classes[0])\n",
        "  if classes[0]>0.5:\n",
        "    print(fn + \" is a dog\")\n",
        "  else:\n",
        "    print(fn + \" is a cat\")"
      ],
      "execution_count": 15,
      "outputs": [
        {
          "output_type": "display_data",
          "data": {
            "text/html": [
              "\n",
              "     <input type=\"file\" id=\"files-96e71c49-78bf-4fa7-bc05-fb353b20815c\" name=\"files[]\" multiple disabled />\n",
              "     <output id=\"result-96e71c49-78bf-4fa7-bc05-fb353b20815c\">\n",
              "      Upload widget is only available when the cell has been executed in the\n",
              "      current browser session. Please rerun this cell to enable.\n",
              "      </output>\n",
              "      <script src=\"/nbextensions/google.colab/files.js\"></script> "
            ],
            "text/plain": [
              "<IPython.core.display.HTML object>"
            ]
          },
          "metadata": {
            "tags": []
          }
        },
        {
          "output_type": "stream",
          "text": [
            "Saving images (4).jpeg to images (4).jpeg\n",
            "[1.]\n",
            "images (4).jpeg is a dog\n"
          ],
          "name": "stdout"
        }
      ]
    },
    {
      "cell_type": "code",
      "metadata": {
        "id": "XoGLigpIaa7-",
        "colab_type": "code",
        "colab": {}
      },
      "source": [
        ""
      ],
      "execution_count": 0,
      "outputs": []
    }
  ]
}