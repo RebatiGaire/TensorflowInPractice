{
  "nbformat": 4,
  "nbformat_minor": 0,
  "metadata": {
    "colab": {
      "name": "Shakespeare.ipynb",
      "provenance": [],
      "authorship_tag": "ABX9TyNwfKg3i0t6EoG4mr/fNLGO",
      "include_colab_link": true
    },
    "kernelspec": {
      "name": "python3",
      "display_name": "Python 3"
    }
  },
  "cells": [
    {
      "cell_type": "markdown",
      "metadata": {
        "id": "view-in-github",
        "colab_type": "text"
      },
      "source": [
        "<a href=\"https://colab.research.google.com/github/RebatiGaire/TensorflowInPractice/blob/master/Shakespeare.ipynb\" target=\"_parent\"><img src=\"https://colab.research.google.com/assets/colab-badge.svg\" alt=\"Open In Colab\"/></a>"
      ]
    },
    {
      "cell_type": "code",
      "metadata": {
        "id": "KgguatSJXAqT",
        "colab_type": "code",
        "colab": {}
      },
      "source": [
        "from tensorflow.keras.preprocessing.sequence import pad_sequences\n",
        "from tensorflow.keras.layers import Embedding, LSTM, Dense, Dropout, Bidirectional\n",
        "from tensorflow.keras.preprocessing.text import Tokenizer\n",
        "from tensorflow.keras.models import Sequential\n",
        "from tensorflow.keras.optimizers import Adam\n",
        "from tensorflow.keras import regularizers\n",
        "import tensorflow.keras.utils as ku \n",
        "import numpy as np "
      ],
      "execution_count": 0,
      "outputs": []
    },
    {
      "cell_type": "code",
      "metadata": {
        "id": "eavKguF0YT2x",
        "colab_type": "code",
        "colab": {
          "base_uri": "https://localhost:8080/",
          "height": 204
        },
        "outputId": "7d30676d-093d-4ba6-a1fe-0ffa0d3bdd64"
      },
      "source": [
        "tokenizer = Tokenizer()\n",
        "!wget --no-check-certificate \\\n",
        "    https://storage.googleapis.com/laurencemoroney-blog.appspot.com/sonnets.txt \\\n",
        "    -O /tmp/sonnets.txt\n",
        "\n",
        "data = open('/tmp/sonnets.txt').read()\n",
        "\n",
        "corpus = data.lower().split('\\n')\n",
        "tokenizer.fit_on_texts(corpus)\n",
        "\n",
        "total_words = len(tokenizer.word_index) + 1\n",
        "\n",
        "input_sequences = []\n",
        "for line in corpus:\n",
        "    token_list = tokenizer.texts_to_sequences([line])[0]\n",
        "    for i in range(1, len(token_list)):\n",
        "        n_gram_sequence = token_list[:i+1]\n",
        "        input_sequences.append(n_gram_sequence)\n",
        "\n",
        "\n",
        "# pad sequences \n",
        "max_sequence_len = max([len(x) for x in input_sequences])\n",
        "input_sequences = np.array(pad_sequences(input_sequences, maxlen=max_sequence_len, padding='pre'))\n",
        "\n",
        "# create predictors and label\n",
        "predictors, label = input_sequences[:,:-1],input_sequences[:,-1]\n",
        "\n",
        "label = ku.to_categorical(label, num_classes=total_words)"
      ],
      "execution_count": 2,
      "outputs": [
        {
          "output_type": "stream",
          "text": [
            "--2020-04-15 05:06:46--  https://storage.googleapis.com/laurencemoroney-blog.appspot.com/sonnets.txt\n",
            "Resolving storage.googleapis.com (storage.googleapis.com)... 108.177.97.128, 2404:6800:4008:c01::80\n",
            "Connecting to storage.googleapis.com (storage.googleapis.com)|108.177.97.128|:443... connected.\n",
            "HTTP request sent, awaiting response... 200 OK\n",
            "Length: 93578 (91K) [text/plain]\n",
            "Saving to: ‘/tmp/sonnets.txt’\n",
            "\n",
            "\r/tmp/sonnets.txt      0%[                    ]       0  --.-KB/s               \r/tmp/sonnets.txt    100%[===================>]  91.38K  --.-KB/s    in 0.001s  \n",
            "\n",
            "2020-04-15 05:06:46 (99.5 MB/s) - ‘/tmp/sonnets.txt’ saved [93578/93578]\n",
            "\n"
          ],
          "name": "stdout"
        }
      ]
    },
    {
      "cell_type": "code",
      "metadata": {
        "id": "-rG6d5H4OIR0",
        "colab_type": "code",
        "colab": {
          "base_uri": "https://localhost:8080/",
          "height": 374
        },
        "outputId": "1c6b3936-93e3-4837-d80d-23b02a0764d8"
      },
      "source": [
        "model = Sequential()\n",
        "model.add(Embedding(total_words, 100, input_length=max_sequence_len-1))\n",
        "model.add(Bidirectional(LSTM(150, return_sequences = True)))\n",
        "model.add(Dropout(0.2))\n",
        "model.add(LSTM(100))\n",
        "model.add(Dense(total_words/2, activation='relu', kernel_regularizer=regularizers.l2(0.01)))\n",
        "model.add(Dense(total_words, activation='softmax'))\n",
        "model.compile(loss='categorical_crossentropy', optimizer='adam', metrics=['accuracy'])\n",
        "print(model.summary())"
      ],
      "execution_count": 3,
      "outputs": [
        {
          "output_type": "stream",
          "text": [
            "Model: \"sequential\"\n",
            "_________________________________________________________________\n",
            "Layer (type)                 Output Shape              Param #   \n",
            "=================================================================\n",
            "embedding (Embedding)        (None, 10, 100)           321100    \n",
            "_________________________________________________________________\n",
            "bidirectional (Bidirectional (None, 10, 300)           301200    \n",
            "_________________________________________________________________\n",
            "dropout (Dropout)            (None, 10, 300)           0         \n",
            "_________________________________________________________________\n",
            "lstm_1 (LSTM)                (None, 100)               160400    \n",
            "_________________________________________________________________\n",
            "dense (Dense)                (None, 1605)              162105    \n",
            "_________________________________________________________________\n",
            "dense_1 (Dense)              (None, 3211)              5156866   \n",
            "=================================================================\n",
            "Total params: 6,101,671\n",
            "Trainable params: 6,101,671\n",
            "Non-trainable params: 0\n",
            "_________________________________________________________________\n",
            "None\n"
          ],
          "name": "stdout"
        }
      ]
    },
    {
      "cell_type": "code",
      "metadata": {
        "id": "9WD0sYVuO8DV",
        "colab_type": "code",
        "colab": {
          "base_uri": "https://localhost:8080/",
          "height": 1000
        },
        "outputId": "002c8525-c79f-4717-ebe0-fa64561f533c"
      },
      "source": [
        "history = model.fit(predictors, label, epochs=100, verbose=1)"
      ],
      "execution_count": 4,
      "outputs": [
        {
          "output_type": "stream",
          "text": [
            "Epoch 1/100\n",
            "484/484 [==============================] - 51s 105ms/step - loss: 6.9057 - accuracy: 0.0207\n",
            "Epoch 2/100\n",
            "484/484 [==============================] - 52s 107ms/step - loss: 6.4998 - accuracy: 0.0217\n",
            "Epoch 3/100\n",
            "484/484 [==============================] - 52s 107ms/step - loss: 6.4086 - accuracy: 0.0245\n",
            "Epoch 4/100\n",
            "484/484 [==============================] - 51s 106ms/step - loss: 6.2970 - accuracy: 0.0302\n",
            "Epoch 5/100\n",
            "484/484 [==============================] - 51s 106ms/step - loss: 6.1876 - accuracy: 0.0348\n",
            "Epoch 6/100\n",
            "484/484 [==============================] - 51s 106ms/step - loss: 6.0995 - accuracy: 0.0381\n",
            "Epoch 7/100\n",
            "484/484 [==============================] - 51s 106ms/step - loss: 6.0155 - accuracy: 0.0409\n",
            "Epoch 8/100\n",
            "484/484 [==============================] - 51s 106ms/step - loss: 5.9293 - accuracy: 0.0459\n",
            "Epoch 9/100\n",
            "484/484 [==============================] - 51s 106ms/step - loss: 5.8278 - accuracy: 0.0521\n",
            "Epoch 10/100\n",
            "484/484 [==============================] - 51s 106ms/step - loss: 5.7237 - accuracy: 0.0587\n",
            "Epoch 11/100\n",
            "484/484 [==============================] - 51s 106ms/step - loss: 5.6209 - accuracy: 0.0629\n",
            "Epoch 12/100\n",
            "484/484 [==============================] - 51s 106ms/step - loss: 5.5173 - accuracy: 0.0712\n",
            "Epoch 13/100\n",
            "484/484 [==============================] - 51s 106ms/step - loss: 5.4186 - accuracy: 0.0759\n",
            "Epoch 14/100\n",
            "484/484 [==============================] - 51s 106ms/step - loss: 5.3101 - accuracy: 0.0827\n",
            "Epoch 15/100\n",
            "484/484 [==============================] - 51s 106ms/step - loss: 5.2119 - accuracy: 0.0913\n",
            "Epoch 16/100\n",
            "484/484 [==============================] - 51s 106ms/step - loss: 5.1071 - accuracy: 0.0960\n",
            "Epoch 17/100\n",
            "484/484 [==============================] - 51s 106ms/step - loss: 5.0062 - accuracy: 0.1051\n",
            "Epoch 18/100\n",
            "484/484 [==============================] - 52s 106ms/step - loss: 4.9062 - accuracy: 0.1116\n",
            "Epoch 19/100\n",
            "484/484 [==============================] - 51s 106ms/step - loss: 4.8100 - accuracy: 0.1169\n",
            "Epoch 20/100\n",
            "484/484 [==============================] - 51s 106ms/step - loss: 4.7151 - accuracy: 0.1262\n",
            "Epoch 21/100\n",
            "484/484 [==============================] - 51s 106ms/step - loss: 4.6168 - accuracy: 0.1361\n",
            "Epoch 22/100\n",
            "484/484 [==============================] - 51s 106ms/step - loss: 4.5100 - accuracy: 0.1470\n",
            "Epoch 23/100\n",
            "484/484 [==============================] - 51s 106ms/step - loss: 4.4073 - accuracy: 0.1558\n",
            "Epoch 24/100\n",
            "484/484 [==============================] - 51s 106ms/step - loss: 4.3222 - accuracy: 0.1683\n",
            "Epoch 25/100\n",
            "484/484 [==============================] - 51s 106ms/step - loss: 4.2235 - accuracy: 0.1779\n",
            "Epoch 26/100\n",
            "484/484 [==============================] - 51s 106ms/step - loss: 4.1230 - accuracy: 0.1927\n",
            "Epoch 27/100\n",
            "484/484 [==============================] - 51s 105ms/step - loss: 4.0238 - accuracy: 0.2076\n",
            "Epoch 28/100\n",
            "484/484 [==============================] - 51s 105ms/step - loss: 3.9246 - accuracy: 0.2244\n",
            "Epoch 29/100\n",
            "484/484 [==============================] - 51s 105ms/step - loss: 3.8365 - accuracy: 0.2375\n",
            "Epoch 30/100\n",
            "484/484 [==============================] - 51s 105ms/step - loss: 3.7327 - accuracy: 0.2575\n",
            "Epoch 31/100\n",
            "484/484 [==============================] - 51s 105ms/step - loss: 3.6479 - accuracy: 0.2704\n",
            "Epoch 32/100\n",
            "484/484 [==============================] - 51s 105ms/step - loss: 3.5562 - accuracy: 0.2932\n",
            "Epoch 33/100\n",
            "484/484 [==============================] - 51s 105ms/step - loss: 3.4662 - accuracy: 0.3122\n",
            "Epoch 34/100\n",
            "484/484 [==============================] - 51s 105ms/step - loss: 3.3908 - accuracy: 0.3276\n",
            "Epoch 35/100\n",
            "484/484 [==============================] - 51s 105ms/step - loss: 3.3092 - accuracy: 0.3461\n",
            "Epoch 36/100\n",
            "484/484 [==============================] - 51s 105ms/step - loss: 3.2278 - accuracy: 0.3612\n",
            "Epoch 37/100\n",
            "484/484 [==============================] - 51s 105ms/step - loss: 3.1585 - accuracy: 0.3809\n",
            "Epoch 38/100\n",
            "484/484 [==============================] - 51s 105ms/step - loss: 3.0898 - accuracy: 0.3870\n",
            "Epoch 39/100\n",
            "484/484 [==============================] - 51s 105ms/step - loss: 3.0088 - accuracy: 0.4123\n",
            "Epoch 40/100\n",
            "484/484 [==============================] - 51s 105ms/step - loss: 2.9402 - accuracy: 0.4278\n",
            "Epoch 41/100\n",
            "484/484 [==============================] - 51s 105ms/step - loss: 2.8829 - accuracy: 0.4385\n",
            "Epoch 42/100\n",
            "484/484 [==============================] - 51s 105ms/step - loss: 2.8190 - accuracy: 0.4528\n",
            "Epoch 43/100\n",
            "484/484 [==============================] - 51s 105ms/step - loss: 2.7513 - accuracy: 0.4691\n",
            "Epoch 44/100\n",
            "484/484 [==============================] - 51s 104ms/step - loss: 2.6910 - accuracy: 0.4839\n",
            "Epoch 45/100\n",
            "484/484 [==============================] - 51s 105ms/step - loss: 2.6370 - accuracy: 0.4975\n",
            "Epoch 46/100\n",
            "484/484 [==============================] - 51s 105ms/step - loss: 2.5787 - accuracy: 0.5107\n",
            "Epoch 47/100\n",
            "484/484 [==============================] - 51s 104ms/step - loss: 2.5438 - accuracy: 0.5166\n",
            "Epoch 48/100\n",
            "484/484 [==============================] - 51s 105ms/step - loss: 2.4756 - accuracy: 0.5338\n",
            "Epoch 49/100\n",
            "484/484 [==============================] - 51s 105ms/step - loss: 2.4267 - accuracy: 0.5441\n",
            "Epoch 50/100\n",
            "484/484 [==============================] - 50s 104ms/step - loss: 2.3784 - accuracy: 0.5571\n",
            "Epoch 51/100\n",
            "484/484 [==============================] - 51s 104ms/step - loss: 2.3308 - accuracy: 0.5693\n",
            "Epoch 52/100\n",
            "484/484 [==============================] - 50s 104ms/step - loss: 2.2730 - accuracy: 0.5816\n",
            "Epoch 53/100\n",
            "484/484 [==============================] - 50s 104ms/step - loss: 2.2445 - accuracy: 0.5897\n",
            "Epoch 54/100\n",
            "484/484 [==============================] - 51s 104ms/step - loss: 2.2133 - accuracy: 0.5887\n",
            "Epoch 55/100\n",
            "484/484 [==============================] - 51s 105ms/step - loss: 2.1527 - accuracy: 0.6011\n",
            "Epoch 56/100\n",
            "484/484 [==============================] - 51s 105ms/step - loss: 2.1080 - accuracy: 0.6156\n",
            "Epoch 57/100\n",
            "484/484 [==============================] - 51s 105ms/step - loss: 2.0728 - accuracy: 0.6250\n",
            "Epoch 58/100\n",
            "484/484 [==============================] - 51s 105ms/step - loss: 2.0505 - accuracy: 0.6269\n",
            "Epoch 59/100\n",
            "484/484 [==============================] - 51s 105ms/step - loss: 2.0052 - accuracy: 0.6404\n",
            "Epoch 60/100\n",
            "484/484 [==============================] - 51s 105ms/step - loss: 1.9554 - accuracy: 0.6506\n",
            "Epoch 61/100\n",
            "484/484 [==============================] - 51s 105ms/step - loss: 1.9350 - accuracy: 0.6538\n",
            "Epoch 62/100\n",
            "484/484 [==============================] - 51s 105ms/step - loss: 1.9205 - accuracy: 0.6518\n",
            "Epoch 63/100\n",
            "484/484 [==============================] - 51s 105ms/step - loss: 1.8725 - accuracy: 0.6645\n",
            "Epoch 64/100\n",
            "484/484 [==============================] - 51s 105ms/step - loss: 1.8378 - accuracy: 0.6764\n",
            "Epoch 65/100\n",
            "484/484 [==============================] - 51s 105ms/step - loss: 1.8163 - accuracy: 0.6773\n",
            "Epoch 66/100\n",
            "484/484 [==============================] - 51s 105ms/step - loss: 1.7639 - accuracy: 0.6889\n",
            "Epoch 67/100\n",
            "484/484 [==============================] - 51s 105ms/step - loss: 1.7528 - accuracy: 0.6909\n",
            "Epoch 68/100\n",
            "484/484 [==============================] - 51s 105ms/step - loss: 1.7240 - accuracy: 0.6955\n",
            "Epoch 69/100\n",
            "484/484 [==============================] - 51s 105ms/step - loss: 1.7056 - accuracy: 0.7015\n",
            "Epoch 70/100\n",
            "484/484 [==============================] - 51s 105ms/step - loss: 1.6871 - accuracy: 0.7028\n",
            "Epoch 71/100\n",
            "484/484 [==============================] - 51s 105ms/step - loss: 1.6601 - accuracy: 0.7053\n",
            "Epoch 72/100\n",
            "484/484 [==============================] - 51s 106ms/step - loss: 1.6253 - accuracy: 0.7178\n",
            "Epoch 73/100\n",
            "484/484 [==============================] - 51s 106ms/step - loss: 1.6204 - accuracy: 0.7153\n",
            "Epoch 74/100\n",
            "484/484 [==============================] - 51s 106ms/step - loss: 1.5965 - accuracy: 0.7223\n",
            "Epoch 75/100\n",
            "484/484 [==============================] - 51s 106ms/step - loss: 1.5669 - accuracy: 0.7252\n",
            "Epoch 76/100\n",
            "484/484 [==============================] - 51s 106ms/step - loss: 1.5506 - accuracy: 0.7291\n",
            "Epoch 77/100\n",
            "484/484 [==============================] - 51s 105ms/step - loss: 1.5271 - accuracy: 0.7348\n",
            "Epoch 78/100\n",
            "484/484 [==============================] - 51s 105ms/step - loss: 1.5062 - accuracy: 0.7389\n",
            "Epoch 79/100\n",
            "484/484 [==============================] - 51s 105ms/step - loss: 1.4858 - accuracy: 0.7396\n",
            "Epoch 80/100\n",
            "484/484 [==============================] - 51s 106ms/step - loss: 1.4718 - accuracy: 0.7454\n",
            "Epoch 81/100\n",
            "484/484 [==============================] - 51s 106ms/step - loss: 1.4504 - accuracy: 0.7450\n",
            "Epoch 82/100\n",
            "484/484 [==============================] - 51s 106ms/step - loss: 1.4302 - accuracy: 0.7495\n",
            "Epoch 83/100\n",
            "484/484 [==============================] - 51s 106ms/step - loss: 1.4128 - accuracy: 0.7562\n",
            "Epoch 84/100\n",
            "484/484 [==============================] - 51s 106ms/step - loss: 1.3983 - accuracy: 0.7549\n",
            "Epoch 85/100\n",
            "484/484 [==============================] - 51s 105ms/step - loss: 1.3897 - accuracy: 0.7593\n",
            "Epoch 86/100\n",
            "484/484 [==============================] - 51s 105ms/step - loss: 1.3712 - accuracy: 0.7624\n",
            "Epoch 87/100\n",
            "484/484 [==============================] - 51s 105ms/step - loss: 1.3676 - accuracy: 0.7610\n",
            "Epoch 88/100\n",
            "484/484 [==============================] - 51s 105ms/step - loss: 1.3403 - accuracy: 0.7696\n",
            "Epoch 89/100\n",
            "484/484 [==============================] - 51s 104ms/step - loss: 1.3247 - accuracy: 0.7716\n",
            "Epoch 90/100\n",
            "484/484 [==============================] - 51s 104ms/step - loss: 1.3054 - accuracy: 0.7760\n",
            "Epoch 91/100\n",
            "484/484 [==============================] - 51s 104ms/step - loss: 1.3183 - accuracy: 0.7703\n",
            "Epoch 92/100\n",
            "484/484 [==============================] - 50s 104ms/step - loss: 1.2924 - accuracy: 0.7786\n",
            "Epoch 93/100\n",
            "484/484 [==============================] - 50s 104ms/step - loss: 1.2635 - accuracy: 0.7849\n",
            "Epoch 94/100\n",
            "484/484 [==============================] - 51s 105ms/step - loss: 1.2522 - accuracy: 0.7832\n",
            "Epoch 95/100\n",
            "484/484 [==============================] - 51s 105ms/step - loss: 1.2479 - accuracy: 0.7850\n",
            "Epoch 96/100\n",
            "484/484 [==============================] - 51s 105ms/step - loss: 1.2372 - accuracy: 0.7847\n",
            "Epoch 97/100\n",
            "484/484 [==============================] - 51s 105ms/step - loss: 1.2295 - accuracy: 0.7895\n",
            "Epoch 98/100\n",
            "484/484 [==============================] - 51s 105ms/step - loss: 1.2119 - accuracy: 0.7895\n",
            "Epoch 99/100\n",
            "484/484 [==============================] - 51s 105ms/step - loss: 1.2169 - accuracy: 0.7861\n",
            "Epoch 100/100\n",
            "484/484 [==============================] - 51s 105ms/step - loss: 1.1855 - accuracy: 0.7951\n"
          ],
          "name": "stdout"
        }
      ]
    },
    {
      "cell_type": "code",
      "metadata": {
        "id": "1fVmiykJPCfA",
        "colab_type": "code",
        "colab": {
          "base_uri": "https://localhost:8080/",
          "height": 545
        },
        "outputId": "9076693e-49b5-4e83-a5a8-866e6a8c8455"
      },
      "source": [
        "import matplotlib.pyplot as plt\n",
        "acc = history.history['accuracy']\n",
        "loss = history.history['loss']\n",
        "\n",
        "epochs = range(len(acc))\n",
        "\n",
        "plt.plot(epochs, acc, 'b', label='Training accuracy')\n",
        "plt.title('Training accuracy')\n",
        "\n",
        "plt.figure()\n",
        "\n",
        "plt.plot(epochs, loss, 'b', label='Training Loss')\n",
        "plt.title('Training loss')\n",
        "plt.legend()\n",
        "\n",
        "plt.show()"
      ],
      "execution_count": 5,
      "outputs": [
        {
          "output_type": "display_data",
          "data": {
            "image/png": "[encoded data removed]",
            "text/plain": [
              "<Figure size 432x288 with 1 Axes>"
            ]
          },
          "metadata": {
            "tags": [],
            "needs_background": "light"
          }
        },
        {
          "output_type": "display_data",
          "data": {
            "image/png": "[encoded data removed]",
            "text/plain": [
              "<Figure size 432x288 with 1 Axes>"
            ]
          },
          "metadata": {
            "tags": [],
            "needs_background": "light"
          }
        }
      ]
    },
    {
      "cell_type": "code",
      "metadata": {
        "id": "G2nP8DzpPM0y",
        "colab_type": "code",
        "colab": {
          "base_uri": "https://localhost:8080/",
          "height": 105
        },
        "outputId": "13939f38-5dd0-4841-ae4f-34b6f2a0f55c"
      },
      "source": [
        "seed_text = \"Help me Obi Wan Kenobi, you're my only hope\"\n",
        "next_words = 100\n",
        "  \n",
        "for _ in range(next_words):\n",
        "\ttoken_list = tokenizer.texts_to_sequences([seed_text])[0]\n",
        "\ttoken_list = pad_sequences([token_list], maxlen=max_sequence_len-1, padding='pre')\n",
        "\tpredicted = model.predict_classes(token_list, verbose=0)\n",
        "\toutput_word = \"\"\n",
        "\tfor word, index in tokenizer.word_index.items():\n",
        "\t\tif index == predicted:\n",
        "\t\t\toutput_word = word\n",
        "\t\t\tbreak\n",
        "\tseed_text += \" \" + output_word\n",
        "print(seed_text)"
      ],
      "execution_count": 6,
      "outputs": [
        {
          "output_type": "stream",
          "text": [
            "WARNING:tensorflow:From <ipython-input-6-622d307fa19a>:7: Sequential.predict_classes (from tensorflow.python.keras.engine.sequential) is deprecated and will be removed after 2021-01-01.\n",
            "Instructions for updating:\n",
            "Please use instead:* `np.argmax(model.predict(x), axis=-1)`,   if your model does multi-class classification   (e.g. if it uses a `softmax` last-layer activation).* `(model.predict(x) > 0.5).astype(\"int32\")`,   if your model does binary classification   (e.g. if it uses a `sigmoid` last-layer activation).\n",
            "Help me Obi Wan Kenobi, you're my only hope his rest kindness go best best still tell my brow slain survey pluck thee better even on much bright parts right days care ' be none brought alone dead spent twain grow about rhyme sit slain slain junes lease heaven new dear grief lies skill wrong day do cold days bereft bereft living hate sit sit ' write not best thou praise give bright lie from thee now thee made thee hence bearing you see thence green thence thence thence thence thence thence thou accuse dead grow about about sit sit give men light days amiss substantial song rhyme hate\n"
          ],
          "name": "stdout"
        }
      ]
    },
    {
      "cell_type": "code",
      "metadata": {
        "id": "B8rWnfuwj5r2",
        "colab_type": "code",
        "colab": {}
      },
      "source": [
        ""
      ],
      "execution_count": 0,
      "outputs": []
    }
  ]
}